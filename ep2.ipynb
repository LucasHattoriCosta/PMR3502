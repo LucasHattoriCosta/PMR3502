{
 "cells": [
  {
   "cell_type": "code",
   "execution_count": 1,
   "id": "64dfcd74-a15a-4436-bf0d-509728aa73f9",
   "metadata": {},
   "outputs": [],
   "source": [
    "import numpy as np\n",
    "import numpy.linalg as LA"
   ]
  },
  {
   "cell_type": "code",
   "execution_count": 71,
   "id": "c694912e-0952-4722-bd89-2db0c122a8a3",
   "metadata": {},
   "outputs": [],
   "source": [
    "srho = 0.25**2\n",
    "spsi = 0.0436**2\n",
    "alpha = 0.05\n",
    "l = 0.3"
   ]
  },
  {
   "cell_type": "markdown",
   "id": "cc299709-5d01-4cf9-941d-3937f2aa257b",
   "metadata": {},
   "source": [
    "## Questão 1"
   ]
  },
  {
   "cell_type": "code",
   "execution_count": 3,
   "id": "92849adf-a612-4960-ae1a-232222db5b00",
   "metadata": {},
   "outputs": [],
   "source": [
    "def lp2lc(coords) -> np.array:\n",
    "    rho, psi = coords\n",
    "    return np.array([\n",
    "        [rho*np.cos(psi)],\n",
    "        [rho*np.sin(psi)],\n",
    "    ])\n",
    "\n",
    "def Q_lp2lc(obs) -> np.array:\n",
    "    rho, psi = obs\n",
    "    return np.array([\n",
    "        [rho**2 * spsi * np.sin(psi)**2 + srho * np.cos(psi)**2, 0.5*(-rho**2 * spsi + srho)*np.sin(2*psi)],\n",
    "        [0.5*(-rho**2 * spsi + srho)*np.sin(2*psi), rho**2 * spsi * np.cos(psi)**2 + srho * np.sin(psi)**2]\n",
    "    ])"
   ]
  },
  {
   "cell_type": "markdown",
   "id": "301da866-7a10-48bc-b618-acfb3eb648d1",
   "metadata": {},
   "source": [
    "## Questão 2"
   ]
  },
  {
   "cell_type": "code",
   "execution_count": 4,
   "id": "ef2ecba2-6456-48c9-9b45-2219fec07297",
   "metadata": {},
   "outputs": [],
   "source": [
    "def R_lc2g(theta: float) -> np.array:\n",
    "    '''\n",
    "    Rotation matrix from Local Cartesiano to Global\n",
    "    '''\n",
    "    return np.array([\n",
    "            [ np.cos(theta),-np.sin(theta)],\n",
    "            [ np.sin(theta), np.cos(theta)]\n",
    "    ])\n",
    "\n",
    "def A_lc2g(robot: np.array) -> np.array:\n",
    "    '''\n",
    "    Homogenous matrix from Local Cartesiano to Global\n",
    "    '''    \n",
    "    x, y, theta = robot\n",
    "    return np.array([\n",
    "        [ np.cos(theta), -np.sin(theta), x],\n",
    "        [ np.sin(theta), np.cos(theta), y],\n",
    "        [0, 0, 1]\n",
    "    ])\n",
    "\n",
    "def lc2g(coords_lc: np.array, robot: np.array) -> np.array:\n",
    "    x_lc, y_lc = coords_lc\n",
    "    return (A_lc2g(robot) @ np.array([[x_lc[0]], [y_lc[0]], [1]]))[:2]\n",
    "\n",
    "def Q_lc2g(theta: float, Q_lc: np.array) -> np.array:\n",
    "    return R_lc2g(theta) @ Q_lc @ R_lc2g(theta).T"
   ]
  },
  {
   "cell_type": "markdown",
   "id": "57969609-ba18-4ae0-8ea7-7258e3b271b3",
   "metadata": {},
   "source": [
    "## Questão 3"
   ]
  },
  {
   "cell_type": "code",
   "execution_count": 5,
   "id": "46443f4f-7072-47a4-81bb-9793cef99b0e",
   "metadata": {},
   "outputs": [],
   "source": [
    "def g2lc(coords_g: np.array, robot: np.array) -> np.array:\n",
    "    A_g2lc = LA.inv(A_lc2g(robot))\n",
    "    gx, gy = coords_g\n",
    "    return (A_g2lc @ np.array([[gx], [gy], [1]]))[:2]\n",
    "\n",
    "def C(theta):\n",
    "    return R_lc2g(theta).T\n",
    "\n",
    "def lc2lp(coords_lc: np.array) -> np.array:\n",
    "    l, r = coords_lc\n",
    "    return np.array([\n",
    "        [np.sqrt(l**2+r**2)],\n",
    "        [np.arctan2(r,l)]\n",
    "    ])"
   ]
  },
  {
   "cell_type": "markdown",
   "id": "36fd1bd9-5615-4ee7-9b60-ad0f86205b97",
   "metadata": {},
   "source": [
    "## Questão 4"
   ]
  },
  {
   "cell_type": "code",
   "execution_count": 6,
   "id": "62fbd9b6-b523-479f-87a2-c461bfe27dba",
   "metadata": {},
   "outputs": [],
   "source": [
    "def check_sensor(x: float, y: float, theta_robot: float = np.pi/6) -> bool:\n",
    "    print(f'X: {x}   Y: {y}')\n",
    "    D_MAX = 3\n",
    "    ANG_MAX = np.pi/3\n",
    "    x_robot = 1\n",
    "    y_robot = 2\n",
    "    l, r = g2lc([x,y], [x_robot, y_robot, theta_robot])\n",
    "    rho, psi = lc2lp([l,r])\n",
    "    print(rho,psi)\n",
    "    \n",
    "    if rho <= D_MAX and (-ANG_MAX <= psi) and (psi <= ANG_MAX):\n",
    "        print(True,'\\n')\n",
    "    else:\n",
    "        print(False,'\\n')"
   ]
  },
  {
   "cell_type": "code",
   "execution_count": 7,
   "id": "224b283d-1faf-4255-8222-261640c15520",
   "metadata": {},
   "outputs": [
    {
     "name": "stdout",
     "output_type": "stream",
     "text": [
      "X: 2   Y: 2\n",
      "[[1.]] [[-0.52359878]]\n",
      "True \n",
      "\n"
     ]
    }
   ],
   "source": [
    "check_sensor(2,2)"
   ]
  },
  {
   "cell_type": "markdown",
   "id": "3411edb5-85e1-4541-97c0-672caf57a500",
   "metadata": {},
   "source": [
    "## Questão 5"
   ]
  },
  {
   "cell_type": "code",
   "execution_count": 56,
   "id": "acd06356-fed0-41a3-96bb-515613eb95a3",
   "metadata": {
    "tags": []
   },
   "outputs": [],
   "source": [
    "class EKF_PARTICLE:\n",
    "    def __init__(self, landmarks, observations, robot_t0):\n",
    "        self.landmarks = landmarks\n",
    "        self.observations = observations\n",
    "        self.robot = robot_t0\n",
    "        \n",
    "    @staticmethod\n",
    "    def Lj(land, obs, robot_t):\n",
    "        '''\n",
    "        land = [mu, sigma]\n",
    "        mu = [x_bar, y_bar]\n",
    "        obs = [rho, psi]\n",
    "        '''\n",
    "        return C(robot_t[2]) @ land['sigma'] @ C(robot_t[2]).T + Q_lp2lc(obs)\n",
    "    \n",
    "    def W(self, observations_t, robot_t):\n",
    "        '''\n",
    "        Observations_t = todas as obs de um mesmo timestamp\n",
    "        Robot_t = estado do robo no timestamp\n",
    "        '''\n",
    "        m = len(self.landmarks)\n",
    "        n = len(observations_t)\n",
    "        if m == 0:\n",
    "            #necessario para o caso inicial, onde nao existem landmarks\n",
    "            return np.zeros((n,1))\n",
    "        W = np.zeros((n,m))\n",
    "        for i, obs in enumerate(observations_t):\n",
    "            for j, land in enumerate(self.landmarks):\n",
    "                d = lp2lc(obs) - g2lc(land['mu'], robot_t)\n",
    "                L = self.Lj(land, obs, robot_t)\n",
    "                W[i][j] = 1 / np.sqrt(LA.det(2*np.pi*L)) * np.exp(-(d.T @ LA.inv(L) @ d)/2)\n",
    "        \n",
    "        self.W = W\n",
    "        return W\n",
    "\n",
    "    def attribute_landmarks(self, observations_t, robot_t):\n",
    "        W = self.W.copy()\n",
    "        c = []\n",
    "        new_landmarks = []\n",
    "        n, m = W.shape\n",
    "        while True:            \n",
    "            i,j = np.unravel_index(np.argmax(W), W.shape)\n",
    "            max_W = np.max(W)\n",
    "            if max_W == -1:\n",
    "                break\n",
    "            elif max_W >= alpha:\n",
    "                c.append({'observation':i, 'landmark': j, 'weight': max_W})\n",
    "                W[i,:] = -1\n",
    "                W[:,j] = -1\n",
    "            else:\n",
    "                #create new landmark\n",
    "                obs = observations_t[i]\n",
    "                initial_mu = lc2g(lp2lc(obs), robot_t).T[0]\n",
    "                initial_sigma = Q_lc2g(robot_t[2], Q_lp2lc(obs))\n",
    "                new_landmarks.append({'mu':initial_mu, 'sigma':initial_sigma, 'count':1})\n",
    "                c.append({'observation':i, 'landmark': m+len(new_landmarks)-1, 'weight': alpha})\n",
    "                W[i,:] = -1\n",
    "        \n",
    "        self.attributions = c\n",
    "        self.new_landmarks = new_landmarks\n",
    "        return c, new_landmarks\n",
    "    \n",
    "    def Kalman_Gain(self,land, robot_t, obs):\n",
    "        K = land['sigma'] @ C(robot_t[2]).T @ LA.inv(self.Lj(land, obs, robot_t))\n",
    "        return K\n",
    "    \n",
    "    def update_map(self, observation_t, robot_t):\n",
    "        landmarks_seen = []\n",
    "        for i, att in enumerate(self.attributions):\n",
    "            if att['landmark'] >= len(self.landmarks):\n",
    "                # if new landmark\n",
    "                pass\n",
    "            else:\n",
    "                land = self.landmarks[att['landmark']]\n",
    "                obs = observation_t[att['observation']]\n",
    "                d = lp2lc(obs) - g2lc(land['mu'], robot_t)\n",
    "                K = self.Kalman_Gain(land,robot_t,obs)\n",
    "                land['mu'] += (K @ d).T[0]\n",
    "                land['sigma'] = (np.eye(K.shape[0]) - K @ C(robot_t[2])) @ land['sigma']\n",
    "                self.landmarks[att['landmark']] = land\n",
    "            \n",
    "            landmarks_seen.append(att['landmark'])\n",
    "        \n",
    "        for i, land in enumerate(self.landmarks):\n",
    "            if i not in landmarks_seen:\n",
    "                land['count'] -= 1\n",
    "            else:\n",
    "                land['count'] += 1\n",
    "    \n",
    "    def compute_particle_weight(self):\n",
    "        total_weight = 1\n",
    "        for el in self.attributions:\n",
    "            total_weight *= el['weight']\n",
    "        self.particle_weight = total_weight\n",
    "                \n",
    "    def fastSLAM_t(self, observation_t):\n",
    "        self.W(observation_t, self.robot)\n",
    "        self.attribute_landmarks(observation_t, self.robot)\n",
    "        self.update_map(observation_t, self.robot)\n",
    "        self.landmarks += self.new_landmarks\n",
    "        self.compute_particle_weight()\n",
    "\n",
    "        return self.attributions, self.landmarks"
   ]
  },
  {
   "cell_type": "code",
   "execution_count": 79,
   "id": "cb92b472-ddd6-4f46-b475-fbf29fb93b2e",
   "metadata": {},
   "outputs": [
    {
     "data": {
      "text/plain": [
       "array([1. , 3.5])"
      ]
     },
     "execution_count": 79,
     "metadata": {},
     "output_type": "execute_result"
    }
   ],
   "source": [
    "np.mean(np.array([\n",
    "    [1,2],\n",
    "    [1,5]\n",
    "]), axis=0)"
   ]
  },
  {
   "cell_type": "code",
   "execution_count": null,
   "id": "d2c32fa0-ac4c-4f41-b288-42434ab6cb6e",
   "metadata": {},
   "outputs": [],
   "source": [
    "def extrapolate(particle, u_t):\n",
    "    \"\"\"\n",
    "    Extrapola a posição da partícula\n",
    "    u_t : controle daquele timestamp\n",
    "    \"\"\"\n",
    "    particle.robot = np.random.multivariate_normal(F(particle.robot), R(particle.robot, u_t))\n",
    "    \n",
    "\n",
    "def ressample_particles(particles):\n",
    "    \"\"\"\n",
    "    Recebe as partículas e ressampleia novas 200 com base nos pesos das partículas.\n",
    "    \"\"\"\n",
    "    new_particles = np.random.choice(particles,\n",
    "                                     size=(200,),\n",
    "                                     p = [p.particle_weight for p in particles])\n",
    "    return new_particles\n",
    "    \n",
    "    \n",
    "def particles_mean(particles):\n",
    "    \"\"\"\n",
    "    Pega a média dos estados das partículas\n",
    "    \"\"\"\n",
    "    return np.mean(\n",
    "        np.array([p.robot for p in particles]),\n",
    "        axis=0\n",
    "    )\n",
    "\n",
    "\n",
    "def Q7():\n",
    "    particles = []\n",
    "    robot_mean_history = []\n",
    "    for _ in range(200):\n",
    "        particle = EKF_PARTICLE(landmarks, observations, robot_t0)\n",
    "        particles.append(particle)\n",
    "    \n",
    "    for observation_t in observations:\n",
    "        for particle in particles:\n",
    "            particle.fastSLAM_t(observation_t)\n",
    "            particle.robot = extrapolate(particle)\n",
    "        \n",
    "        particles = ressample_particles(particles)        \n",
    "        robot_mean = particles_mean(particles)\n",
    "        robot_mean_history.append(robot_mean)"
   ]
  },
  {
   "cell_type": "code",
   "execution_count": 57,
   "id": "8de8351e-f268-4c37-8882-787870bf184d",
   "metadata": {
    "tags": []
   },
   "outputs": [],
   "source": [
    "Z = [[3, 0],\n",
    "    [4, -0.646],\n",
    "    [np.sqrt(2), np.pi/8]]\n",
    "Z = np.array([Z])\n",
    "robot_t = np.array([4, 3, -np.pi/2])\n",
    "landmarks = [\n",
    "    [[2.,1], [[1/9,0],\n",
    "             [0,1.]]],\n",
    "    [[3.,-1], [[5/9,4/9],\n",
    "              [5/9,4/8.]]],\n",
    "    [[5/2,2], [[1/9,0],\n",
    "             [0,1.]]],\n",
    "]\n",
    "landmarks = [{'mu':np.array(l[0]), 'sigma':np.array(l[1]), 'count':1} for l in landmarks]\n",
    "\n",
    "ekf_q5 = EKF_SLAM(landmarks, Z, robot_t)\n",
    "attributions, landmarks = ekf_q5.ekf()\n",
    "landmarks += ekf_q5.new_landmarks"
   ]
  },
  {
   "cell_type": "code",
   "execution_count": 61,
   "id": "1e82e0b6-47cc-4e54-9e9c-4eca291bfa2e",
   "metadata": {},
   "outputs": [
    {
     "data": {
      "text/plain": [
       "array([[7.08796201e-07, 3.86576711e-01, 6.24310591e-05],\n",
       "       [4.46126372e-01, 2.08054164e-05, 6.14730888e-01],\n",
       "       [4.33321107e-10, 1.93454788e-03, 1.32348379e-06]])"
      ]
     },
     "execution_count": 61,
     "metadata": {},
     "output_type": "execute_result"
    }
   ],
   "source": [
    "W_thiago = np.array([[7.087962007020396e-07, 0.38657671051977616, 6.243105914510025e-05],\n",
    "[0.4461263723328002, 2.0805416412562555e-05, 0.614730887848715],\n",
    "[4.333211069889573e-10, 0.0019345478843285008, 1.323483793700351e-06]])\n",
    "W_thiago"
   ]
  },
  {
   "cell_type": "code",
   "execution_count": 58,
   "id": "3ccd5f54-a82d-4f06-8047-12adb0f1be64",
   "metadata": {},
   "outputs": [
    {
     "data": {
      "text/plain": [
       "array([[4.52984211e-08, 2.36284194e-01, 1.01550775e-05],\n",
       "       [1.22385832e-01, 1.42121782e-09, 3.27372620e-03],\n",
       "       [1.07703834e-12, 1.36139070e-04, 2.08799560e-08]])"
      ]
     },
     "execution_count": 58,
     "metadata": {},
     "output_type": "execute_result"
    }
   ],
   "source": [
    "ekf_q5.W"
   ]
  },
  {
   "cell_type": "code",
   "execution_count": 59,
   "id": "1ed28a70-e713-48f8-bd84-ee37029784f5",
   "metadata": {},
   "outputs": [
    {
     "data": {
      "text/plain": [
       "[{'observation': 0, 'landmark': 1, 'weight': 0.23628419400099204},\n",
       " {'observation': 1, 'landmark': 0, 'weight': 0.12238583219575123},\n",
       " {'observation': 2, 'landmark': 3, 'weight': 0.05}]"
      ]
     },
     "execution_count": 59,
     "metadata": {},
     "output_type": "execute_result"
    }
   ],
   "source": [
    "attributions"
   ]
  },
  {
   "cell_type": "code",
   "execution_count": 69,
   "id": "4e626289-6f89-4c08-9614-3d757aa9fe46",
   "metadata": {
    "jupyter": {
     "source_hidden": true
    },
    "tags": []
   },
   "outputs": [],
   "source": [
    "l1 = [[2.,1.],\n",
    "[[0.11111111, 0.        ],\n",
    " [0.         ,1.        ]]\n",
    "]\n",
    "\n",
    "l2 = [[ 3.9586387,  -0.05991492],\n",
    "np.array([[0.03078539, 0.01057591],\n",
    " [0.01057591, 0.04933901]])]\n",
    "\n",
    "l3 = [[2.51450047 ,1.02332184],\n",
    "[[0.03177946 ,0.01813355],\n",
    " [0.01813355 ,0.01882305]]]\n",
    "\n",
    "l4 = [[4.5411961,  1.69343704],\n",
    "[[ 0.01239805, -0.02075291],\n",
    " [-0.02075291,  0.05390387]]]"
   ]
  },
  {
   "cell_type": "code",
   "execution_count": 70,
   "id": "a1879a20-eda4-4541-8bb4-5bacb193eba7",
   "metadata": {
    "collapsed": true,
    "jupyter": {
     "outputs_hidden": true,
     "source_hidden": true
    },
    "tags": []
   },
   "outputs": [
    {
     "name": "stdout",
     "output_type": "stream",
     "text": [
      "Mapa atualizado\n",
      "Landmark 0\n",
      "mu: [ 1.71630326 -0.09871928]\n",
      "sigma: [[0.03038221 0.01066319]\n",
      " [0.01066319 0.04700132]]\n",
      "Landmark 1\n",
      "mu: [ 3.97314494 -0.01421739]\n",
      "sigma: [[0.01491948 0.00631884]\n",
      " [0.00789855 0.03275703]]\n",
      "Landmark 2\n",
      "mu: [2.5 2. ]\n",
      "sigma: [[0.11111111 0.        ]\n",
      " [0.         1.        ]]\n",
      "Landmark 3\n",
      "mu: [4.5411961  1.69343704]\n",
      "sigma: [[ 0.01239805 -0.02075291]\n",
      " [-0.02075291  0.05390387]]\n"
     ]
    }
   ],
   "source": [
    "print('Mapa atualizado')\n",
    "for i, l in enumerate(landmarks):\n",
    "    print(f'Landmark {i}')\n",
    "    print(f'mu: {l[\"mu\"]}')\n",
    "    print(f'sigma: {l[\"sigma\"]}')"
   ]
  },
  {
   "cell_type": "code",
   "execution_count": 43,
   "id": "865e12c0-8e25-426a-845e-2aeba26d573c",
   "metadata": {},
   "outputs": [
    {
     "name": "stdout",
     "output_type": "stream",
     "text": [
      "Peso total: 0.0014458918858756872\n"
     ]
    }
   ],
   "source": [
    "total_weight = 1\n",
    "for el in attributions:\n",
    "    total_weight *= el['weight']\n",
    "print(f'Peso total: {total_weight}')"
   ]
  },
  {
   "cell_type": "markdown",
   "id": "c43e8555-2dff-4d6a-a788-1d0bc68efef9",
   "metadata": {},
   "source": [
    "## Questão 6"
   ]
  },
  {
   "cell_type": "code",
   "execution_count": null,
   "id": "c79c315d-4355-49c8-94e5-d29b439b24f4",
   "metadata": {},
   "outputs": [],
   "source": [
    "import pandas as pd"
   ]
  },
  {
   "cell_type": "code",
   "execution_count": null,
   "id": "35c72c43-12d0-43e6-ad2d-39efbfc81c14",
   "metadata": {},
   "outputs": [],
   "source": [
    "data = pd.read_csv('./data/valoresEP2.csv', usecols=np.arange(14), header=None).to_numpy()\n",
    "control_hist = data[:,:2]\n",
    "observations = data[:,2:]"
   ]
  },
  {
   "cell_type": "code",
   "execution_count": null,
   "id": "1bb22036-3f5f-4464-81fb-8755ccc51cde",
   "metadata": {},
   "outputs": [],
   "source": [
    "def F(X_prev: np.array, u_prev: np.array, dt=1) -> np.array:\n",
    "    '''\n",
    "    Calculada analiticamente.\n",
    "    '''\n",
    "    \n",
    "    return np.array([\n",
    "        X_prev[0] + u_prev[0] * np.cos(u_prev[1]) *  np.cos(X_prev[2]) * dt,\n",
    "        X_prev[1] + u_prev[0] * np.cos(u_prev[1]) *  np.sin(X_prev[2]) * dt,\n",
    "        X_prev[2] + u_prev[0] * dt * np.tan(u_prev[1])/ l\n",
    "    ])"
   ]
  },
  {
   "cell_type": "code",
   "execution_count": null,
   "id": "2a836594-0621-4c5c-84a4-db74dbe0700d",
   "metadata": {},
   "outputs": [],
   "source": [
    "X = [[0,0,0]]\n",
    "for i, u in enumerate(control_hist):\n",
    "    X.append(F(X[-1], u))"
   ]
  },
  {
   "cell_type": "code",
   "execution_count": null,
   "id": "4e8c027d-3072-4aa4-b953-0fa1136a84b1",
   "metadata": {},
   "outputs": [],
   "source": [
    "import matplotlib.pyplot as plt"
   ]
  },
  {
   "cell_type": "code",
   "execution_count": null,
   "id": "4319a1ad-a150-4a71-81a6-73bb90f8bfd1",
   "metadata": {},
   "outputs": [],
   "source": [
    "X = np.array(X)"
   ]
  },
  {
   "cell_type": "code",
   "execution_count": null,
   "id": "427f18a6-621e-4323-addf-73a9f0ba3b4c",
   "metadata": {},
   "outputs": [],
   "source": [
    "plt.plot(X[:,0], X[:,1])\n",
    "plt.ylabel('Coordenada em y')\n",
    "plt.xlabel('Coordenada em x')\n",
    "plt.title(r'Coordenadas (x,y) percorridas pelo robô - $t_f=250s$', fontsize=13)\n",
    "plt.savefig('./images/caminhoQ4.png', dpi=600)\n",
    "plt.show()"
   ]
  },
  {
   "cell_type": "markdown",
   "id": "e9f50867-e384-4f5c-ba82-b235e742acc8",
   "metadata": {},
   "source": [
    "## Questão 7"
   ]
  },
  {
   "cell_type": "code",
   "execution_count": 72,
   "id": "0b775710-86d6-4cb7-9348-4e1e4ee4e739",
   "metadata": {},
   "outputs": [],
   "source": [
    "def R(x_prev, u):\n",
    "    '''\n",
    "    DE ESTADO\n",
    "    '''\n",
    "    cos = np.cos(x_prev[2])\n",
    "    sin = np.sin(x_prev[2])\n",
    "    M =  np.array([\n",
    "        [cos, -sin, 0, 0, 0],\n",
    "        [sin,  cos, 0, 0, 0],\n",
    "        [0, 0, 1, 0, 0],\n",
    "        [0, 0, 0, 1, 0],\n",
    "        [0, 0, 0, 0, 1]\n",
    "    ])\n",
    "    \n",
    "    sl = (dt * u[0] / 6)**2\n",
    "    sr = (dt * u[0] / 12)**2\n",
    "    stheta = (dt * u[0] / (8*l))**2\n",
    "    \n",
    "    # Matriz R no referencial local\n",
    "    Rl = np.array([\n",
    "        [sl, 0, 0, 0, 0],\n",
    "        [0, sr, 0, 0, 0],\n",
    "        [0, 0, stheta, 0, 0],\n",
    "        [0, 0, 0, 0, 0],\n",
    "        [0, 0, 0, 0, 0]\n",
    "    ])\n",
    "    \n",
    "    return M @ Rl @ M.T"
   ]
  },
  {
   "cell_type": "code",
   "execution_count": null,
   "id": "fb0d50b3-e4c2-4696-ac03-f9ae2d5bc139",
   "metadata": {},
   "outputs": [],
   "source": [
    "# ficar sampleando\n",
    "# implementar contador dos landmarks"
   ]
  }
 ],
 "metadata": {
  "kernelspec": {
   "display_name": "Python 3",
   "language": "python",
   "name": "python3"
  },
  "language_info": {
   "codemirror_mode": {
    "name": "ipython",
    "version": 3
   },
   "file_extension": ".py",
   "mimetype": "text/x-python",
   "name": "python",
   "nbconvert_exporter": "python",
   "pygments_lexer": "ipython3",
   "version": "3.8.8"
  }
 },
 "nbformat": 4,
 "nbformat_minor": 5
}
