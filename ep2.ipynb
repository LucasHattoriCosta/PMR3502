{
 "cells": [
  {
   "cell_type": "markdown",
   "metadata": {},
   "source": [
    "# Bibliotecas"
   ]
  },
  {
   "cell_type": "code",
   "execution_count": 13,
   "metadata": {},
   "outputs": [],
   "source": [
    "import numpy as np\n",
    "import numpy.linalg as LA"
   ]
  },
  {
   "cell_type": "markdown",
   "metadata": {},
   "source": [
    "# Variáveis globais"
   ]
  },
  {
   "cell_type": "code",
   "execution_count": 14,
   "metadata": {},
   "outputs": [],
   "source": [
    "srho = 0.25**2\n",
    "spsi = 0.0436**2\n",
    "alpha = 0.05"
   ]
  },
  {
   "cell_type": "markdown",
   "metadata": {},
   "source": [
    "# Questão 1"
   ]
  },
  {
   "cell_type": "code",
   "execution_count": 15,
   "metadata": {},
   "outputs": [],
   "source": [
    "def lp2lc(coords: np.array) -> np.array:\r\n",
    "  rho, psi = coords\r\n",
    "  return np.array([\r\n",
    "    [rho*np.cos(psi)],\r\n",
    "    [rho*np.sin(psi)],\r\n",
    "  ])\r\n",
    "\r\n",
    "def Q_lp2lc(obs: np.array) -> np.array:\r\n",
    "  rho, psi = obs\r\n",
    "  return np.array([\r\n",
    "    [rho**2 * spsi * np.sin(psi)**2 + srho * np.cos(psi)**2, 0.5*(-rho**2 * spsi+srho)*np.sin(2*psi)],\r\n",
    "    [0.5*(-rho**2 * spsi+srho)*np.sin(2*psi), rho**2 * spsi * np.cos(psi)**2 + srho * np.sin(psi)**2]\r\n",
    "  ])"
   ]
  },
  {
   "cell_type": "markdown",
   "metadata": {},
   "source": [
    "# Questão 2"
   ]
  },
  {
   "cell_type": "code",
   "execution_count": 16,
   "metadata": {},
   "outputs": [],
   "source": [
    "def R_lc2g(theta: float) -> np.array:\r\n",
    "  return np.array([\r\n",
    "    [np.cos(theta),-np.sin(theta)],\r\n",
    "    [np.sin(theta), np.cos(theta)]\r\n",
    "  ])\r\n",
    "\r\n",
    "def A_lc2g(robot: np.array) -> np.array:\r\n",
    "  x, y, theta = robot\r\n",
    "  return np.array([\r\n",
    "    [ np.cos(theta), -np.sin(theta), x],\r\n",
    "    [ np.sin(theta), np.cos(theta), y],\r\n",
    "    [0, 0, 1]\r\n",
    "  ])\r\n",
    "\r\n",
    "def lc2g(coords_lc: np.array, robot: np.array) -> np.array:\r\n",
    "  return (A_lc2g(robot) @ np.array([[coords_lc[0]], [coords_lc[1]], [1]]))[:2]\r\n",
    "\r\n",
    "def Q_lc2g(theta: float, Q_lc: np.array) -> np.array:\r\n",
    "  return R_lc2g(theta) @ Q_lc @ R_lc2g(theta).T"
   ]
  },
  {
   "cell_type": "markdown",
   "metadata": {},
   "source": [
    "# Questão 3"
   ]
  },
  {
   "cell_type": "code",
   "execution_count": 17,
   "metadata": {},
   "outputs": [],
   "source": [
    "def g2lc(coords_g: np.array, robot: np.array) -> np.array:\r\n",
    "  A_g2lc = LA.inv(A_lc2g(robot))\r\n",
    "  gx, gy = coords_g\r\n",
    "  return (A_g2lc @ np.array([[gx], [gy], [1]]))[:2]\r\n",
    "\r\n",
    "def C(theta: float) -> np.array:\r\n",
    "  return R_lc2g(theta).T\r\n",
    "\r\n",
    "def lc2lp(coords_lc: np.array) -> np.array:\r\n",
    "  l, r = coords_lc\r\n",
    "  return np.array([\r\n",
    "    [np.sqrt(l**2+r**2)],\r\n",
    "    [np.arctan2(r,l)]\r\n",
    "  ])"
   ]
  },
  {
   "cell_type": "markdown",
   "metadata": {},
   "source": [
    "# Questão 4"
   ]
  },
  {
   "cell_type": "code",
   "execution_count": 18,
   "metadata": {},
   "outputs": [],
   "source": [
    "def check_sensor(x: float, y: float, theta_robot: float = np.pi/6) -> bool:\r\n",
    "  print(f'X: {x}   Y: {y}')\r\n",
    "  D_MAX = 3\r\n",
    "  ANG_MAX = np.pi/3\r\n",
    "  x_robot = 1\r\n",
    "  y_robot = 2\r\n",
    "  l, r = g2lc([x,y], [x_robot, y_robot, theta_robot])\r\n",
    "  rho, psi = lc2lp([l,r])\r\n",
    "  print(rho,psi)\r\n",
    "  \r\n",
    "  if (rho <= D_MAX and (-ANG_MAX <= psi) and (psi <= ANG_MAX)):\r\n",
    "    print(True,'\\n')\r\n",
    "  else:\r\n",
    "    print(False,'\\n')"
   ]
  },
  {
   "cell_type": "code",
   "execution_count": 19,
   "metadata": {},
   "outputs": [
    {
     "name": "stdout",
     "output_type": "stream",
     "text": [
      "X: 3   Y: 4\n",
      "[[2.82842712]] [[0.26179939]]\n",
      "True \n",
      "\n"
     ]
    }
   ],
   "source": [
    "check_sensor(3,4)"
   ]
  },
  {
   "cell_type": "markdown",
   "metadata": {},
   "source": [
    "# Questão 5"
   ]
  },
  {
   "cell_type": "code",
   "execution_count": 20,
   "metadata": {},
   "outputs": [],
   "source": [
    "def Lj(land, obs, robot_t):\r\n",
    "  ''' \r\n",
    "  l and = [mu, sigma]\r\n",
    "  mu = [x_bar, y_bar]\r\n",
    "  obs = [rho, psi]\r\n",
    "  ''' \r\n",
    "  Cj = C(robot_t[2])\r\n",
    "  return Cj @ land['sigma'] @ Cj.T + Q_lp2lc(obs)\r\n",
    "    \r\n",
    "def W(observations_t, landmarks, robot_t):\r\n",
    "  '''\r\n",
    "  Observations = todas as obs de um mesmo timestamp\r\n",
    "  '''\r\n",
    "  m = len(landmarks)\r\n",
    "  n = len(observations_t)\r\n",
    "  W = np.empty((n,m))\r\n",
    "  for i, obs in enumerate(observations_t):\r\n",
    "    for j, land in enumerate(landmarks):\r\n",
    "      d = lp2lc(obs) - g2lc(land['mu'], robot_t)\r\n",
    "      L = Lj(land, obs, robot_t)\r\n",
    "      W[i][j] = (1 / np.sqrt(LA.det(2*np.pi*L))) * np.exp(-(d.T @ LA.inv(L) @ d)/2)\r\n",
    "  return W"
   ]
  },
  {
   "cell_type": "code",
   "execution_count": 21,
   "metadata": {},
   "outputs": [
    {
     "name": "stdout",
     "output_type": "stream",
     "text": [
      "[[3.]\n",
      " [0.]] \n",
      "\n",
      "[[ 3.19399268]\n",
      " [-2.40798895]] \n",
      "\n",
      "[[1.30656296]\n",
      " [0.5411961 ]] \n",
      "\n"
     ]
    }
   ],
   "source": [
    "z1 = [3, 0]\r\n",
    "z2 = [4, -0.646] \r\n",
    "z3 = [np.sqrt(2), np.pi/8]\r\n",
    "Z = [z1,z2,z3]\r\n",
    "Z = np.array(Z)\r\n",
    "for z in Z:\r\n",
    "  print(lp2lc(z), \"\\n\")"
   ]
  },
  {
   "cell_type": "code",
   "execution_count": 22,
   "metadata": {},
   "outputs": [],
   "source": [
    "robot_t = np.array([4, 3, np.pi/2])\r\n",
    "landmarks_values = [\r\n",
    "  [\r\n",
    "    [2, 1.], \r\n",
    "    [\r\n",
    "      [1/9, 0],\r\n",
    "      [0, 1.]\r\n",
    "     ]\r\n",
    "  ],\r\n",
    "  [\r\n",
    "    [3, -1.], \r\n",
    "    [\r\n",
    "      [5/9, 4/9],\r\n",
    "      [5/9,4/8]\r\n",
    "    ]\r\n",
    "  ],\r\n",
    "  [\r\n",
    "    [5/2, 2],\r\n",
    "    [\r\n",
    "      [1/9, 0],\r\n",
    "      [0, 1.]\r\n",
    "    ]\r\n",
    "  ],    \r\n",
    "]\r\n",
    "landmarks = [{'mu':np.array(l[0]), 'sigma':np.array(l[1])} for l in landmarks_values]"
   ]
  },
  {
   "cell_type": "code",
   "execution_count": 23,
   "metadata": {},
   "outputs": [
    {
     "data": {
      "text/plain": [
       "array([[5.63780555e-13, 2.15467944e-63, 3.58258710e-08],\n",
       "       [2.40115742e-33, 3.22394336e-40, 9.03928268e-26],\n",
       "       [1.97716698e-07, 5.43850680e-35, 5.89100523e-04]])"
      ]
     },
     "execution_count": 23,
     "metadata": {},
     "output_type": "execute_result"
    }
   ],
   "source": [
    "W(Z, landmarks, robot_t)"
   ]
  },
  {
   "cell_type": "code",
   "execution_count": 24,
   "metadata": {},
   "outputs": [],
   "source": [
    "data = np.genfromtxt('./data/valoresEP2.csv', delimiter=',')\r\n",
    "observations = data[:,2:]"
   ]
  }
 ],
 "metadata": {
  "interpreter": {
   "hash": "66d7c0815ee3ec39f8a25542b36e8def4dce34ad6588e623c666e441b334d01c"
  },
  "kernelspec": {
   "display_name": "Python 3.8.8 64-bit ('base': conda)",
   "name": "python3"
  },
  "language_info": {
   "codemirror_mode": {
    "name": "ipython",
    "version": 3
   },
   "file_extension": ".py",
   "mimetype": "text/x-python",
   "name": "python",
   "nbconvert_exporter": "python",
   "pygments_lexer": "ipython3",
   "version": "3.8.8"
  }
 },
 "nbformat": 4,
 "nbformat_minor": 5
}